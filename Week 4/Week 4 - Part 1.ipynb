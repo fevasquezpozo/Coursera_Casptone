{
 "cells": [
  {
   "cell_type": "markdown",
   "metadata": {},
   "source": [
    "# Capstone Project - The Battle of Neighborhoods (Week 4 - Part 1)"
   ]
  },
  {
   "cell_type": "markdown",
   "metadata": {},
   "source": [
    "## 1. A description of the problem and a discussion of the background."
   ]
  },
  {
   "cell_type": "markdown",
   "metadata": {},
   "source": [
    "### Introduction: "
   ]
  },
  {
   "cell_type": "markdown",
   "metadata": {},
   "source": [
    "The main purpose of this project is to help people moving to Santiago de Chile to explore the facilities around different neighborhoods of the city, in order to settle in one of them."
   ]
  },
  {
   "cell_type": "markdown",
   "metadata": {},
   "source": [
    "### Background of Santiago:"
   ]
  },
  {
   "cell_type": "markdown",
   "metadata": {},
   "source": [
    "Santiago de Chile, is the capital and largest city of Chile as well as one of the largest cities in the Americas. It is the center of Chile's most densely populated region, the Santiago Metropolitan Region, the total population of which is 7 million, and more than 6 million of them live in the city's continuous urban area.\n",
    "\n",
    "Founded in 1541 by the Spanish conquistador Pedro de Valdivia, Santiago has been the capital city of Chile since colonial times. The city has a downtown core of 19th-century neoclassical architecture and winding side-streets.\n",
    "\n",
    "Santiago is the cultural, political and financial center of Chile and is home to the regional headquarters of many multinational corporations. The Chilean executive and judiciary branches are located in Santiago, but Congress itself meets mostly in nearby Valparaíso."
   ]
  },
  {
   "cell_type": "markdown",
   "metadata": {},
   "source": [
    "### Target Audience:"
   ]
  },
  {
   "cell_type": "markdown",
   "metadata": {},
   "source": [
    "The project aims to aid people moving to Santiago de Chile to select the suitable neighborhood that suits their necessities. Particularly young professionals and newly graduated students. Since the biggest companies are located in the capital, fresh grads from different regions of the country are likely to relocate in a city that is mostly unknown for them. Therefore, it’s important for them to get access to the services that provide information necessary to select a new place to settle for a new life. And basically, this could be of use to anyone looking to relocate in the capital."
   ]
  },
  {
   "cell_type": "markdown",
   "metadata": {},
   "source": [
    "### Problem to solve:"
   ]
  },
  {
   "cell_type": "markdown",
   "metadata": {},
   "source": [
    "Provide a clustering algorithm that suggests anyone looking to relocate in Santiago de Chile with the amenities included in the neighborhoods."
   ]
  },
  {
   "cell_type": "markdown",
   "metadata": {},
   "source": [
    "### Further information: "
   ]
  },
  {
   "cell_type": "markdown",
   "metadata": {},
   "source": [
    "The project is supported by Foursquare API as its prime data gathering source. The API also provides a location search algorithm suitable for searching venues and amenities available. \n",
    "Due to requests limitation the number of venues was set to a radius of 100 meters. \n",
    "The K-means unsupervised algorithm was used to cluster the locations."
   ]
  },
  {
   "cell_type": "code",
   "execution_count": null,
   "metadata": {},
   "outputs": [],
   "source": []
  }
 ],
 "metadata": {
  "kernelspec": {
   "display_name": "Python 3",
   "language": "python",
   "name": "python3"
  },
  "language_info": {
   "codemirror_mode": {
    "name": "ipython",
    "version": 3
   },
   "file_extension": ".py",
   "mimetype": "text/x-python",
   "name": "python",
   "nbconvert_exporter": "python",
   "pygments_lexer": "ipython3",
   "version": "3.8.3"
  }
 },
 "nbformat": 4,
 "nbformat_minor": 4
}
